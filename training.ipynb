{
  "nbformat": 4,
  "nbformat_minor": 0,
  "metadata": {
    "colab": {
      "name": "training.ipynb",
      "provenance": [],
      "authorship_tag": "ABX9TyNoWXpWpTJeFJLBdzAStFPB",
      "include_colab_link": true
    },
    "kernelspec": {
      "name": "python3",
      "display_name": "Python 3"
    },
    "language_info": {
      "name": "python"
    }
  },
  "cells": [
    {
      "cell_type": "markdown",
      "metadata": {
        "id": "view-in-github",
        "colab_type": "text"
      },
      "source": [
        "<a href=\"https://colab.research.google.com/github/sandonli/Gecko-Binary-Classifier/blob/main/training.ipynb\" target=\"_parent\"><img src=\"https://colab.research.google.com/assets/colab-badge.svg\" alt=\"Open In Colab\"/></a>"
      ]
    },
    {
      "cell_type": "code",
      "metadata": {
        "id": "rcokNGpXwc_D"
      },
      "source": [
        "xform = transforms.Compose([transforms.Resize((224, 224)), transforms.ToTensor()])\n",
        "dataset_full = datasets.ImageFolder('/content/gdrive/MyDrive/geckos', transform=xform)"
      ],
      "execution_count": null,
      "outputs": []
    },
    {
      "cell_type": "code",
      "metadata": {
        "id": "8BSTka0f8Odq"
      },
      "source": [
        "n_all = len(dataset_full)\n",
        "n_train = int(0.8 * n_all)\n",
        "n_test = n_all - n_train\n",
        "rng = torch.Generator().manual_seed(2000)\n",
        "dataset_train, dataset_test = torch.utils.data.random_split(dataset_full, [n_train, n_test], rng)\n",
        "loader_train = torch.utils.data.DataLoader(dataset_train, batch_size=4, shuffle=True)\n",
        "loader_test = torch.utils.data.DataLoader(dataset_test, batch_size=4, shuffle=True)"
      ],
      "execution_count": null,
      "outputs": []
    },
    {
      "cell_type": "code",
      "metadata": {
        "id": "6K8u6oe88Rgu"
      },
      "source": [
        "model = models.resnet18(pretrained=True)\n",
        "model.fc = nn.Linear(model.fc.in_features, 2)\n",
        "torch.nn.init.xavier_uniform_(model.fc.weight)\n",
        "device = torch.device('cuda:0')\n",
        "model = model.to(device)"
      ],
      "execution_count": null,
      "outputs": []
    },
    {
      "cell_type": "code",
      "metadata": {
        "id": "9S9V5LSQ8TLS"
      },
      "source": [
        "criterion = nn.CrossEntropyLoss()\n",
        "\n",
        "def run_test(model):\n",
        "  nsamples_test = len(dataset_test)\n",
        "  loss, correct = 0, 0\n",
        "  model.eval()\n",
        "  with torch.no_grad():\n",
        "    for samples, labels in loader_test:\n",
        "      samples = samples.to(device)\n",
        "      labels = labels.to(device)\n",
        "      outs = model(samples)\n",
        "      loss += criterion(outs, labels)\n",
        "      _, preds = torch.max(outs.detach(), 1)\n",
        "      correct_mask = preds == labels\n",
        "      correct += correct_mask.sum(0).item()\n",
        "  return loss / nsamples_test, correct / nsamples_test"
      ],
      "execution_count": null,
      "outputs": []
    },
    {
      "cell_type": "code",
      "metadata": {
        "id": "Df9AYr4T8U0C"
      },
      "source": [
        "optimizer = optim.SGD(model.parameters(), lr=0.001, momentum=0.9)\n",
        "scheduler = optim.lr_scheduler.StepLR(optimizer, step_size=5, gamma=0.1)"
      ],
      "execution_count": null,
      "outputs": []
    },
    {
      "cell_type": "code",
      "metadata": {
        "id": "GCZtnaYo8WxL"
      },
      "source": [
        "def run_train(model, opt, sched):\n",
        "  nsamples_train = len(dataset_train)\n",
        "  loss_sofar, correct_sofar = 0, 0\n",
        "  model.train()\n",
        "  with torch.enable_grad():\n",
        "    for samples, labels in loader_train:\n",
        "      samples = samples.to(device)\n",
        "      labels = labels.to(device)\n",
        "      opt.zero_grad()\n",
        "      outs = model(samples)\n",
        "      _, preds = torch.max(outs.detach(), 1)\n",
        "      loss = criterion(outs, labels)\n",
        "      loss.backward()\n",
        "      opt.step()\n",
        "      loss_sofar += loss.item() * samples.size(0)\n",
        "      correct_sofar += torch.sum(preds == labels.detach())\n",
        "  sched.step()\n",
        "  return loss_sofar / nsamples_train, correct_sofar / nsamples_train\n",
        "\n",
        "def run_all(model, optimizer, scheduler, n_epochs):\n",
        "  for epoch in range(n_epochs):\n",
        "    loss_train, acc_train = run_train(model, optimizer, scheduler)\n",
        "    loss_test, acc_test = run_test(model)\n",
        "    print(f\"epoch {epoch}: train loss {loss_train:.4f} acc { acc_train:.4f}, test loss {loss_test:.4f} acc {acc_test:.4f}\")"
      ],
      "execution_count": null,
      "outputs": []
    }
  ]
}