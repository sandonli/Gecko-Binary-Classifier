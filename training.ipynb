{
  "nbformat": 4,
  "nbformat_minor": 0,
  "metadata": {
    "colab": {
      "name": "training.ipynb",
      "provenance": []
    },
    "kernelspec": {
      "name": "python3",
      "display_name": "Python 3"
    },
    "language_info": {
      "name": "python"
    },
    "accelerator": "GPU",
    "widgets": {
      "application/vnd.jupyter.widget-state+json": {
        "c4bb206353654213af491da2dadf1c4b": {
          "model_module": "@jupyter-widgets/controls",
          "model_name": "HBoxModel",
          "model_module_version": "1.5.0",
          "state": {
            "_view_name": "HBoxView",
            "_dom_classes": [],
            "_model_name": "HBoxModel",
            "_view_module": "@jupyter-widgets/controls",
            "_model_module_version": "1.5.0",
            "_view_count": null,
            "_view_module_version": "1.5.0",
            "box_style": "",
            "layout": "IPY_MODEL_8d6d762588ae4a24aa6c2c1ec703f926",
            "_model_module": "@jupyter-widgets/controls",
            "children": [
              "IPY_MODEL_bb5aaab317fd4f0099461ac608f861df",
              "IPY_MODEL_189dff1e2eb240e7b3f9535b32c23385",
              "IPY_MODEL_b116a5217ccc4a7da006a5a6a70ef244"
            ]
          }
        },
        "8d6d762588ae4a24aa6c2c1ec703f926": {
          "model_module": "@jupyter-widgets/base",
          "model_name": "LayoutModel",
          "model_module_version": "1.2.0",
          "state": {
            "_view_name": "LayoutView",
            "grid_template_rows": null,
            "right": null,
            "justify_content": null,
            "_view_module": "@jupyter-widgets/base",
            "overflow": null,
            "_model_module_version": "1.2.0",
            "_view_count": null,
            "flex_flow": null,
            "width": null,
            "min_width": null,
            "border": null,
            "align_items": null,
            "bottom": null,
            "_model_module": "@jupyter-widgets/base",
            "top": null,
            "grid_column": null,
            "overflow_y": null,
            "overflow_x": null,
            "grid_auto_flow": null,
            "grid_area": null,
            "grid_template_columns": null,
            "flex": null,
            "_model_name": "LayoutModel",
            "justify_items": null,
            "grid_row": null,
            "max_height": null,
            "align_content": null,
            "visibility": null,
            "align_self": null,
            "height": null,
            "min_height": null,
            "padding": null,
            "grid_auto_rows": null,
            "grid_gap": null,
            "max_width": null,
            "order": null,
            "_view_module_version": "1.2.0",
            "grid_template_areas": null,
            "object_position": null,
            "object_fit": null,
            "grid_auto_columns": null,
            "margin": null,
            "display": null,
            "left": null
          }
        },
        "bb5aaab317fd4f0099461ac608f861df": {
          "model_module": "@jupyter-widgets/controls",
          "model_name": "HTMLModel",
          "model_module_version": "1.5.0",
          "state": {
            "_view_name": "HTMLView",
            "style": "IPY_MODEL_42eff44f3b904464a9dbfd85d186306c",
            "_dom_classes": [],
            "description": "",
            "_model_name": "HTMLModel",
            "placeholder": "​",
            "_view_module": "@jupyter-widgets/controls",
            "_model_module_version": "1.5.0",
            "value": "100%",
            "_view_count": null,
            "_view_module_version": "1.5.0",
            "description_tooltip": null,
            "_model_module": "@jupyter-widgets/controls",
            "layout": "IPY_MODEL_de06d80a5ebe4241a314de6892b255cc"
          }
        },
        "189dff1e2eb240e7b3f9535b32c23385": {
          "model_module": "@jupyter-widgets/controls",
          "model_name": "FloatProgressModel",
          "model_module_version": "1.5.0",
          "state": {
            "_view_name": "ProgressView",
            "style": "IPY_MODEL_fdf5038138c54b66be72a95efc92d519",
            "_dom_classes": [],
            "description": "",
            "_model_name": "FloatProgressModel",
            "bar_style": "success",
            "max": 46830571,
            "_view_module": "@jupyter-widgets/controls",
            "_model_module_version": "1.5.0",
            "value": 46830571,
            "_view_count": null,
            "_view_module_version": "1.5.0",
            "orientation": "horizontal",
            "min": 0,
            "description_tooltip": null,
            "_model_module": "@jupyter-widgets/controls",
            "layout": "IPY_MODEL_beee2143bc374690a6fdf7371b08e3b7"
          }
        },
        "b116a5217ccc4a7da006a5a6a70ef244": {
          "model_module": "@jupyter-widgets/controls",
          "model_name": "HTMLModel",
          "model_module_version": "1.5.0",
          "state": {
            "_view_name": "HTMLView",
            "style": "IPY_MODEL_486de94d8a154b58acfa97e9546eef74",
            "_dom_classes": [],
            "description": "",
            "_model_name": "HTMLModel",
            "placeholder": "​",
            "_view_module": "@jupyter-widgets/controls",
            "_model_module_version": "1.5.0",
            "value": " 44.7M/44.7M [00:00&lt;00:00, 106MB/s]",
            "_view_count": null,
            "_view_module_version": "1.5.0",
            "description_tooltip": null,
            "_model_module": "@jupyter-widgets/controls",
            "layout": "IPY_MODEL_0bc20d37c12143d29fa362e4dc8091f4"
          }
        },
        "42eff44f3b904464a9dbfd85d186306c": {
          "model_module": "@jupyter-widgets/controls",
          "model_name": "DescriptionStyleModel",
          "model_module_version": "1.5.0",
          "state": {
            "_view_name": "StyleView",
            "_model_name": "DescriptionStyleModel",
            "description_width": "",
            "_view_module": "@jupyter-widgets/base",
            "_model_module_version": "1.5.0",
            "_view_count": null,
            "_view_module_version": "1.2.0",
            "_model_module": "@jupyter-widgets/controls"
          }
        },
        "de06d80a5ebe4241a314de6892b255cc": {
          "model_module": "@jupyter-widgets/base",
          "model_name": "LayoutModel",
          "model_module_version": "1.2.0",
          "state": {
            "_view_name": "LayoutView",
            "grid_template_rows": null,
            "right": null,
            "justify_content": null,
            "_view_module": "@jupyter-widgets/base",
            "overflow": null,
            "_model_module_version": "1.2.0",
            "_view_count": null,
            "flex_flow": null,
            "width": null,
            "min_width": null,
            "border": null,
            "align_items": null,
            "bottom": null,
            "_model_module": "@jupyter-widgets/base",
            "top": null,
            "grid_column": null,
            "overflow_y": null,
            "overflow_x": null,
            "grid_auto_flow": null,
            "grid_area": null,
            "grid_template_columns": null,
            "flex": null,
            "_model_name": "LayoutModel",
            "justify_items": null,
            "grid_row": null,
            "max_height": null,
            "align_content": null,
            "visibility": null,
            "align_self": null,
            "height": null,
            "min_height": null,
            "padding": null,
            "grid_auto_rows": null,
            "grid_gap": null,
            "max_width": null,
            "order": null,
            "_view_module_version": "1.2.0",
            "grid_template_areas": null,
            "object_position": null,
            "object_fit": null,
            "grid_auto_columns": null,
            "margin": null,
            "display": null,
            "left": null
          }
        },
        "fdf5038138c54b66be72a95efc92d519": {
          "model_module": "@jupyter-widgets/controls",
          "model_name": "ProgressStyleModel",
          "model_module_version": "1.5.0",
          "state": {
            "_view_name": "StyleView",
            "_model_name": "ProgressStyleModel",
            "description_width": "",
            "_view_module": "@jupyter-widgets/base",
            "_model_module_version": "1.5.0",
            "_view_count": null,
            "_view_module_version": "1.2.0",
            "bar_color": null,
            "_model_module": "@jupyter-widgets/controls"
          }
        },
        "beee2143bc374690a6fdf7371b08e3b7": {
          "model_module": "@jupyter-widgets/base",
          "model_name": "LayoutModel",
          "model_module_version": "1.2.0",
          "state": {
            "_view_name": "LayoutView",
            "grid_template_rows": null,
            "right": null,
            "justify_content": null,
            "_view_module": "@jupyter-widgets/base",
            "overflow": null,
            "_model_module_version": "1.2.0",
            "_view_count": null,
            "flex_flow": null,
            "width": null,
            "min_width": null,
            "border": null,
            "align_items": null,
            "bottom": null,
            "_model_module": "@jupyter-widgets/base",
            "top": null,
            "grid_column": null,
            "overflow_y": null,
            "overflow_x": null,
            "grid_auto_flow": null,
            "grid_area": null,
            "grid_template_columns": null,
            "flex": null,
            "_model_name": "LayoutModel",
            "justify_items": null,
            "grid_row": null,
            "max_height": null,
            "align_content": null,
            "visibility": null,
            "align_self": null,
            "height": null,
            "min_height": null,
            "padding": null,
            "grid_auto_rows": null,
            "grid_gap": null,
            "max_width": null,
            "order": null,
            "_view_module_version": "1.2.0",
            "grid_template_areas": null,
            "object_position": null,
            "object_fit": null,
            "grid_auto_columns": null,
            "margin": null,
            "display": null,
            "left": null
          }
        },
        "486de94d8a154b58acfa97e9546eef74": {
          "model_module": "@jupyter-widgets/controls",
          "model_name": "DescriptionStyleModel",
          "model_module_version": "1.5.0",
          "state": {
            "_view_name": "StyleView",
            "_model_name": "DescriptionStyleModel",
            "description_width": "",
            "_view_module": "@jupyter-widgets/base",
            "_model_module_version": "1.5.0",
            "_view_count": null,
            "_view_module_version": "1.2.0",
            "_model_module": "@jupyter-widgets/controls"
          }
        },
        "0bc20d37c12143d29fa362e4dc8091f4": {
          "model_module": "@jupyter-widgets/base",
          "model_name": "LayoutModel",
          "model_module_version": "1.2.0",
          "state": {
            "_view_name": "LayoutView",
            "grid_template_rows": null,
            "right": null,
            "justify_content": null,
            "_view_module": "@jupyter-widgets/base",
            "overflow": null,
            "_model_module_version": "1.2.0",
            "_view_count": null,
            "flex_flow": null,
            "width": null,
            "min_width": null,
            "border": null,
            "align_items": null,
            "bottom": null,
            "_model_module": "@jupyter-widgets/base",
            "top": null,
            "grid_column": null,
            "overflow_y": null,
            "overflow_x": null,
            "grid_auto_flow": null,
            "grid_area": null,
            "grid_template_columns": null,
            "flex": null,
            "_model_name": "LayoutModel",
            "justify_items": null,
            "grid_row": null,
            "max_height": null,
            "align_content": null,
            "visibility": null,
            "align_self": null,
            "height": null,
            "min_height": null,
            "padding": null,
            "grid_auto_rows": null,
            "grid_gap": null,
            "max_width": null,
            "order": null,
            "_view_module_version": "1.2.0",
            "grid_template_areas": null,
            "object_position": null,
            "object_fit": null,
            "grid_auto_columns": null,
            "margin": null,
            "display": null,
            "left": null
          }
        }
      }
    }
  },
  "cells": [
    {
      "cell_type": "code",
      "metadata": {
        "id": "vEP2NxlyTg7v"
      },
      "source": [
        "import requests, re, time\n",
        "import torch, torchvision\n",
        "from torch import nn, optim\n",
        "from torchvision import datasets, models, transforms\n",
        "import matplotlib.pyplot as plt\n",
        "import argparse, imghdr, pickle, posixpath, re\n",
        "import signal, socket, threading\n",
        "import urllib.parse, urllib.request\n",
        "import datetime, os, sys, logging, hashlib\n",
        "from pathlib import Path\n",
        "from os import listdir\n",
        "from os.path import isfile, join"
      ],
      "execution_count": null,
      "outputs": []
    },
    {
      "cell_type": "code",
      "metadata": {
        "id": "ntmInCOOTP7V"
      },
      "source": [
        "!unzip Gecko-Binary-Classifier-main.zip"
      ],
      "execution_count": null,
      "outputs": []
    },
    {
      "cell_type": "code",
      "metadata": {
        "id": "rcokNGpXwc_D"
      },
      "source": [
        "xform = transforms.Compose([transforms.Resize((224, 224)), transforms.ToTensor()])\n",
        "\n",
        "# Note - originally I had the datasets on my drive so that I wouldn't have to upload the datasets constantly. I have left the code below if you would like to run\n",
        "# these tests on your own using google drive. For more information on running the binary classifier, see the \"Training and Testing\" section on the README for more details.\n",
        "# from google.colab import drive\n",
        "# drive.mount('/content/gdrive')\n",
        "# dataset_full = datasets.ImageFolder('/content/gdrive/MyDrive/dataset', transform=xform)\n",
        "\n",
        "dataset_full = datasets.ImageFolder('/content/Gecko-Binary-Classifier-main/dataset', transform=xform)"
      ],
      "execution_count": null,
      "outputs": []
    },
    {
      "cell_type": "code",
      "metadata": {
        "id": "8BSTka0f8Odq"
      },
      "source": [
        "n_all = len(dataset_full)\n",
        "n_train = int(0.8 * n_all)\n",
        "n_test = n_all - n_train\n",
        "rng = torch.Generator().manual_seed(2000)\n",
        "dataset_train, dataset_test = torch.utils.data.random_split(dataset_full, [n_train, n_test], rng)\n",
        "loader_train = torch.utils.data.DataLoader(dataset_train, batch_size=4, shuffle=True)\n",
        "loader_test = torch.utils.data.DataLoader(dataset_test, batch_size=4, shuffle=True)"
      ],
      "execution_count": null,
      "outputs": []
    },
    {
      "cell_type": "code",
      "metadata": {
        "id": "6K8u6oe88Rgu",
        "colab": {
          "base_uri": "https://localhost:8080/",
          "height": 66,
          "referenced_widgets": [
            "c4bb206353654213af491da2dadf1c4b",
            "8d6d762588ae4a24aa6c2c1ec703f926",
            "bb5aaab317fd4f0099461ac608f861df",
            "189dff1e2eb240e7b3f9535b32c23385",
            "b116a5217ccc4a7da006a5a6a70ef244",
            "42eff44f3b904464a9dbfd85d186306c",
            "de06d80a5ebe4241a314de6892b255cc",
            "fdf5038138c54b66be72a95efc92d519",
            "beee2143bc374690a6fdf7371b08e3b7",
            "486de94d8a154b58acfa97e9546eef74",
            "0bc20d37c12143d29fa362e4dc8091f4"
          ]
        },
        "outputId": "4a295688-2c24-4b98-e0ae-d4b23a53c677"
      },
      "source": [
        "model = models.resnet18(pretrained=True)\n",
        "model.fc = nn.Linear(model.fc.in_features, 2)\n",
        "torch.nn.init.xavier_uniform_(model.fc.weight)\n",
        "device = torch.device('cuda:0')\n",
        "model = model.to(device)"
      ],
      "execution_count": null,
      "outputs": [
        {
          "output_type": "stream",
          "name": "stderr",
          "text": [
            "Downloading: \"https://download.pytorch.org/models/resnet18-f37072fd.pth\" to /root/.cache/torch/hub/checkpoints/resnet18-f37072fd.pth\n"
          ]
        },
        {
          "output_type": "display_data",
          "data": {
            "application/vnd.jupyter.widget-view+json": {
              "model_id": "c4bb206353654213af491da2dadf1c4b",
              "version_minor": 0,
              "version_major": 2
            },
            "text/plain": [
              "  0%|          | 0.00/44.7M [00:00<?, ?B/s]"
            ]
          },
          "metadata": {}
        }
      ]
    },
    {
      "cell_type": "code",
      "metadata": {
        "id": "9S9V5LSQ8TLS"
      },
      "source": [
        "criterion = nn.CrossEntropyLoss()\n",
        "\n",
        "def run_test(model):\n",
        "  nsamples_test = len(dataset_test)\n",
        "  loss, correct = 0, 0\n",
        "  model.eval()\n",
        "  with torch.no_grad():\n",
        "    for samples, labels in loader_test:\n",
        "      samples = samples.to(device)\n",
        "      labels = labels.to(device)\n",
        "      outs = model(samples)\n",
        "      loss += criterion(outs, labels)\n",
        "      _, preds = torch.max(outs.detach(), 1)\n",
        "      correct_mask = preds == labels\n",
        "      correct += correct_mask.sum(0).item()\n",
        "  return loss / nsamples_test, correct / nsamples_test"
      ],
      "execution_count": null,
      "outputs": []
    },
    {
      "cell_type": "code",
      "metadata": {
        "id": "Df9AYr4T8U0C"
      },
      "source": [
        "optimizer = optim.SGD(model.parameters(), lr=0.001, momentum=0.9)\n",
        "scheduler = optim.lr_scheduler.StepLR(optimizer, step_size=5, gamma=0.1)"
      ],
      "execution_count": null,
      "outputs": []
    },
    {
      "cell_type": "code",
      "metadata": {
        "id": "GCZtnaYo8WxL"
      },
      "source": [
        "def run_train(model, opt, sched):\n",
        "  nsamples_train = len(dataset_train)\n",
        "  loss_sofar, correct_sofar = 0, 0\n",
        "  model.train()\n",
        "  with torch.enable_grad():\n",
        "    for samples, labels in loader_train:\n",
        "      samples = samples.to(device)\n",
        "      labels = labels.to(device)\n",
        "      opt.zero_grad()\n",
        "      outs = model(samples)\n",
        "      _, preds = torch.max(outs.detach(), 1)\n",
        "      loss = criterion(outs, labels)\n",
        "      loss.backward()\n",
        "      opt.step()\n",
        "      loss_sofar += loss.item() * samples.size(0)\n",
        "      correct_sofar += torch.sum(preds == labels.detach())\n",
        "  sched.step()\n",
        "  return loss_sofar / nsamples_train, correct_sofar / nsamples_train\n",
        "\n",
        "def run_all(model, optimizer, scheduler, n_epochs):\n",
        "  for epoch in range(n_epochs):\n",
        "    loss_train, acc_train = run_train(model, optimizer, scheduler)\n",
        "    loss_test, acc_test = run_test(model)\n",
        "    print(f\"epoch {epoch}: train loss {loss_train:.4f} acc { acc_train:.4f}, test loss {loss_test:.4f} acc {acc_test:.4f}\")"
      ],
      "execution_count": null,
      "outputs": []
    },
    {
      "cell_type": "code",
      "metadata": {
        "colab": {
          "base_uri": "https://localhost:8080/"
        },
        "id": "7bAgnjL0_sn-",
        "outputId": "0becb45f-47cf-45f6-d39c-46838bded0d3"
      },
      "source": [
        "run_all(model, optimizer, scheduler, 8)"
      ],
      "execution_count": null,
      "outputs": [
        {
          "output_type": "stream",
          "name": "stderr",
          "text": [
            "/usr/local/lib/python3.7/dist-packages/torch/nn/functional.py:718: UserWarning: Named tensors and all their associated APIs are an experimental feature and subject to change. Please do not use them for anything important until they are released as stable. (Triggered internally at  /pytorch/c10/core/TensorImpl.h:1156.)\n",
            "  return torch.max_pool2d(input, kernel_size, stride, padding, dilation, ceil_mode)\n"
          ]
        },
        {
          "output_type": "stream",
          "name": "stdout",
          "text": [
            "epoch 0: train loss 0.7293 acc 0.7101, test loss 0.1906 acc 0.7500\n",
            "epoch 1: train loss 0.6124 acc 0.7918, test loss 0.0826 acc 0.8878\n",
            "epoch 2: train loss 0.4553 acc 0.8352, test loss 0.1271 acc 0.7449\n",
            "epoch 3: train loss 0.2588 acc 0.8953, test loss 0.1109 acc 0.8776\n",
            "epoch 4: train loss 0.4067 acc 0.8621, test loss 0.0624 acc 0.9184\n",
            "epoch 5: train loss 0.2364 acc 0.9170, test loss 0.0461 acc 0.9337\n",
            "epoch 6: train loss 0.1715 acc 0.9361, test loss 0.0351 acc 0.9490\n",
            "epoch 7: train loss 0.2256 acc 0.9042, test loss 0.0316 acc 0.9592\n"
          ]
        }
      ]
    }
  ]
}